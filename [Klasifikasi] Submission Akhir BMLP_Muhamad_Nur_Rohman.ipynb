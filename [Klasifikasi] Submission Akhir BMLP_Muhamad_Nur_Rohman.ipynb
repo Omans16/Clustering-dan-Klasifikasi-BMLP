{
 "cells": [
  {
   "cell_type": "markdown",
   "metadata": {
    "id": "fKADPWcFKlj3"
   },
   "source": [
    "# **1. Import Library**"
   ]
  },
  {
   "cell_type": "markdown",
   "metadata": {
    "id": "LgA3ERnVn84N"
   },
   "source": [
    "Pada tahap ini, Anda perlu mengimpor beberapa pustaka (library) Python yang dibutuhkan untuk analisis data dan pembangunan model machine learning."
   ]
  },
  {
   "cell_type": "code",
   "execution_count": 94,
   "metadata": {
    "id": "BlmvjLY9M4Yj"
   },
   "outputs": [],
   "source": [
    "import pandas as pd\n",
    "import numpy as np\n",
    "import matplotlib.pyplot as plt\n",
    "import seaborn as sns\n",
    "import optuna\n",
    "from sklearn.model_selection import cross_val_score\n",
    "from sklearn.model_selection import train_test_split\n",
    "from sklearn.tree import DecisionTreeClassifier\n",
    "from sklearn.ensemble import RandomForestClassifier\n",
    "from sklearn.preprocessing import LabelEncoder\n",
    "from sklearn.metrics import confusion_matrix, accuracy_score, precision_score, recall_score, f1_score\n",
    "from sklearn.neighbors import KNeighborsClassifier\n",
    "from sklearn.metrics import classification_report\n",
    "from sklearn.model_selection import learning_curve\n",
    "from skopt import BayesSearchCV\n",
    "from imblearn.over_sampling import SMOTE\n",
    "from sklearn.model_selection import GridSearchCV"
   ]
  },
  {
   "cell_type": "markdown",
   "metadata": {
    "id": "f3YIEnAFKrKL"
   },
   "source": [
    "# **2. Memuat Dataset dari Hasil Clustering**"
   ]
  },
  {
   "cell_type": "code",
   "execution_count": 95,
   "metadata": {
    "id": "GHCGNTyrM5fS"
   },
   "outputs": [
    {
     "data": {
      "text/html": [
       "<div>\n",
       "<style scoped>\n",
       "    .dataframe tbody tr th:only-of-type {\n",
       "        vertical-align: middle;\n",
       "    }\n",
       "\n",
       "    .dataframe tbody tr th {\n",
       "        vertical-align: top;\n",
       "    }\n",
       "\n",
       "    .dataframe thead th {\n",
       "        text-align: right;\n",
       "    }\n",
       "</style>\n",
       "<table border=\"1\" class=\"dataframe\">\n",
       "  <thead>\n",
       "    <tr style=\"text-align: right;\">\n",
       "      <th></th>\n",
       "      <th>mileage</th>\n",
       "      <th>engine</th>\n",
       "      <th>max_power</th>\n",
       "      <th>km_driven</th>\n",
       "      <th>transmission</th>\n",
       "      <th>Cluster</th>\n",
       "    </tr>\n",
       "  </thead>\n",
       "  <tbody>\n",
       "    <tr>\n",
       "      <th>0</th>\n",
       "      <td>23.40</td>\n",
       "      <td>1248.0</td>\n",
       "      <td>74.00</td>\n",
       "      <td>145500</td>\n",
       "      <td>1</td>\n",
       "      <td>1</td>\n",
       "    </tr>\n",
       "    <tr>\n",
       "      <th>1</th>\n",
       "      <td>21.14</td>\n",
       "      <td>1498.0</td>\n",
       "      <td>103.52</td>\n",
       "      <td>120000</td>\n",
       "      <td>1</td>\n",
       "      <td>1</td>\n",
       "    </tr>\n",
       "    <tr>\n",
       "      <th>2</th>\n",
       "      <td>17.70</td>\n",
       "      <td>1497.0</td>\n",
       "      <td>78.00</td>\n",
       "      <td>140000</td>\n",
       "      <td>1</td>\n",
       "      <td>3</td>\n",
       "    </tr>\n",
       "    <tr>\n",
       "      <th>3</th>\n",
       "      <td>23.00</td>\n",
       "      <td>1396.0</td>\n",
       "      <td>90.00</td>\n",
       "      <td>127000</td>\n",
       "      <td>1</td>\n",
       "      <td>1</td>\n",
       "    </tr>\n",
       "    <tr>\n",
       "      <th>4</th>\n",
       "      <td>16.10</td>\n",
       "      <td>1298.0</td>\n",
       "      <td>88.20</td>\n",
       "      <td>120000</td>\n",
       "      <td>1</td>\n",
       "      <td>3</td>\n",
       "    </tr>\n",
       "    <tr>\n",
       "      <th>...</th>\n",
       "      <td>...</td>\n",
       "      <td>...</td>\n",
       "      <td>...</td>\n",
       "      <td>...</td>\n",
       "      <td>...</td>\n",
       "      <td>...</td>\n",
       "    </tr>\n",
       "    <tr>\n",
       "      <th>6901</th>\n",
       "      <td>18.90</td>\n",
       "      <td>998.0</td>\n",
       "      <td>67.10</td>\n",
       "      <td>50000</td>\n",
       "      <td>1</td>\n",
       "      <td>3</td>\n",
       "    </tr>\n",
       "    <tr>\n",
       "      <th>6902</th>\n",
       "      <td>22.54</td>\n",
       "      <td>1396.0</td>\n",
       "      <td>88.73</td>\n",
       "      <td>80000</td>\n",
       "      <td>1</td>\n",
       "      <td>1</td>\n",
       "    </tr>\n",
       "    <tr>\n",
       "      <th>6903</th>\n",
       "      <td>18.50</td>\n",
       "      <td>1197.0</td>\n",
       "      <td>82.85</td>\n",
       "      <td>110000</td>\n",
       "      <td>1</td>\n",
       "      <td>3</td>\n",
       "    </tr>\n",
       "    <tr>\n",
       "      <th>6904</th>\n",
       "      <td>16.80</td>\n",
       "      <td>1493.0</td>\n",
       "      <td>110.00</td>\n",
       "      <td>119000</td>\n",
       "      <td>1</td>\n",
       "      <td>1</td>\n",
       "    </tr>\n",
       "    <tr>\n",
       "      <th>6905</th>\n",
       "      <td>19.30</td>\n",
       "      <td>1248.0</td>\n",
       "      <td>73.90</td>\n",
       "      <td>120000</td>\n",
       "      <td>1</td>\n",
       "      <td>1</td>\n",
       "    </tr>\n",
       "  </tbody>\n",
       "</table>\n",
       "<p>6906 rows × 6 columns</p>\n",
       "</div>"
      ],
      "text/plain": [
       "      mileage  engine  max_power  km_driven  transmission  Cluster\n",
       "0       23.40  1248.0      74.00     145500             1        1\n",
       "1       21.14  1498.0     103.52     120000             1        1\n",
       "2       17.70  1497.0      78.00     140000             1        3\n",
       "3       23.00  1396.0      90.00     127000             1        1\n",
       "4       16.10  1298.0      88.20     120000             1        3\n",
       "...       ...     ...        ...        ...           ...      ...\n",
       "6901    18.90   998.0      67.10      50000             1        3\n",
       "6902    22.54  1396.0      88.73      80000             1        1\n",
       "6903    18.50  1197.0      82.85     110000             1        3\n",
       "6904    16.80  1493.0     110.00     119000             1        1\n",
       "6905    19.30  1248.0      73.90     120000             1        1\n",
       "\n",
       "[6906 rows x 6 columns]"
      ]
     },
     "execution_count": 95,
     "metadata": {},
     "output_type": "execute_result"
    }
   ],
   "source": [
    "klasifikasi_df = pd.read_csv(\"Dataset_klasifikasi.csv\")\n",
    "klasifikasi_df"
   ]
  },
  {
   "cell_type": "markdown",
   "metadata": {
    "id": "KkPem5eWL2UP"
   },
   "source": [
    "# **3. Data Splitting**"
   ]
  },
  {
   "cell_type": "markdown",
   "metadata": {
    "id": "YYj1rl_JNI9Y"
   },
   "source": [
    "Tahap Data Splitting bertujuan untuk memisahkan dataset menjadi dua bagian: data latih (training set) dan data uji (test set)."
   ]
  },
  {
   "cell_type": "code",
   "execution_count": 96,
   "metadata": {},
   "outputs": [
    {
     "name": "stdout",
     "output_type": "stream",
     "text": [
      "Ukuran data latih: (5524, 5) (5524,)\n",
      "Ukuran data uji: (1382, 5) (1382,)\n"
     ]
    }
   ],
   "source": [
    "\n",
    "X = klasifikasi_df.drop(columns=[klasifikasi_df.columns[-1]])\n",
    "y = klasifikasi_df[klasifikasi_df.columns[-1]]\n",
    "\n",
    "X_train, X_test, y_train, y_test = train_test_split(X, y, test_size=0.2, random_state=42)\n",
    "print(\"Ukuran data latih:\", X_train.shape, y_train.shape)\n",
    "print(\"Ukuran data uji:\", X_test.shape, y_test.shape)\n"
   ]
  },
  {
   "cell_type": "code",
   "execution_count": 97,
   "metadata": {},
   "outputs": [
    {
     "name": "stdout",
     "output_type": "stream",
     "text": [
      "Distribusi kelas: [ 480 2025  764 2255]\n"
     ]
    }
   ],
   "source": [
    "print(\"Distribusi kelas:\", np.bincount(y_train))"
   ]
  },
  {
   "cell_type": "markdown",
   "metadata": {},
   "source": [
    "**Distribusi clusters tidak merata (Imbalanced dataset), maka akan menggunakan SMOTE**"
   ]
  },
  {
   "cell_type": "code",
   "execution_count": 98,
   "metadata": {},
   "outputs": [
    {
     "name": "stdout",
     "output_type": "stream",
     "text": [
      "Distribusi kelas setelah dilakukan SMOTE: [2255 2255 2255 2255]\n"
     ]
    }
   ],
   "source": [
    "le = LabelEncoder()\n",
    "X_train = pd.get_dummies(X_train)\n",
    "\n",
    "y_train_encoded = le.fit_transform(y_train)  # Mengonversi kategori ke angka\n",
    "\n",
    "smote = SMOTE(random_state=95)\n",
    "X_train_resampled, y_train_resampled = smote.fit_resample(X_train, y_train_encoded)\n",
    "print(\"Distribusi kelas setelah dilakukan SMOTE:\", np.bincount(y_train_resampled))"
   ]
  },
  {
   "cell_type": "markdown",
   "metadata": {
    "id": "IVPbB03CMhTT"
   },
   "source": [
    "# **4. Membangun Model Klasifikasi**\n"
   ]
  },
  {
   "cell_type": "markdown",
   "metadata": {
    "id": "Ned1pL9zMmBK"
   },
   "source": [
    "## **a. Membangun Model Klasifikasi**"
   ]
  },
  {
   "cell_type": "markdown",
   "metadata": {
    "id": "WAWzPOE4Nkti"
   },
   "source": [
    "Setelah memilih algoritma klasifikasi yang sesuai, langkah selanjutnya adalah melatih model menggunakan data latih.\n",
    "\n",
    "Berikut adalah rekomendasi tahapannya.\n",
    "1. Pilih algoritma klasifikasi yang sesuai, seperti Logistic Regression, Decision Tree, Random Forest, atau K-Nearest Neighbors (KNN).\n",
    "2. Latih model menggunakan data latih."
   ]
  },
  {
   "cell_type": "code",
   "execution_count": 99,
   "metadata": {},
   "outputs": [
    {
     "data": {
      "text/plain": [
       "(0.9862518089725036,\n",
       " '              precision    recall  f1-score   support\\n\\n           0       1.00      1.00      1.00       104\\n           1       0.98      0.99      0.98       535\\n           2       0.99      0.99      0.99       164\\n           3       0.99      0.98      0.99       579\\n\\n    accuracy                           0.99      1382\\n   macro avg       0.99      0.99      0.99      1382\\nweighted avg       0.99      0.99      0.99      1382\\n')"
      ]
     },
     "execution_count": 99,
     "metadata": {},
     "output_type": "execute_result"
    }
   ],
   "source": [
    "dt_model = DecisionTreeClassifier(random_state=42)\n",
    "dt_model.fit(X_train, y_train)\n",
    "\n",
    "# Memprediksi data uji\n",
    "y_pred_dt = dt_model.predict(X_test)\n",
    "\n",
    "# Mengevaluasi performa model\n",
    "accuracy_dt = accuracy_score(y_test, y_pred_dt)\n",
    "report_dt = classification_report(y_test, y_pred_dt)\n",
    "\n",
    "accuracy_dt, report_dt"
   ]
  },
  {
   "cell_type": "code",
   "execution_count": 100,
   "metadata": {},
   "outputs": [],
   "source": [
    "rf_model = RandomForestClassifier(n_estimators=100, random_state=42)\n",
    "rf_model.fit(X_train, y_train)\n",
    "\n",
    "# Memprediksi data uji\n",
    "y_pred_rf = rf_model.predict(X_test)\n",
    "\n",
    "# Mengevaluasi performa model\n",
    "accuracy_rf = accuracy_score(y_test, y_pred_rf)\n",
    "report_rf = classification_report(y_test, y_pred_rf)\n"
   ]
  },
  {
   "cell_type": "code",
   "execution_count": 101,
   "metadata": {},
   "outputs": [],
   "source": [
    "# Inisialisasi model KNN (misal, k=5)\n",
    "knn = KNeighborsClassifier(n_neighbors=5)\n",
    "\n",
    "# Melatih model pada data latih\n",
    "knn.fit(X_train, y_train)\n",
    "\n",
    "# Memprediksi data uji\n",
    "y_pred_knn = knn.predict(X_test)\n",
    "\n",
    "accuracy = accuracy_score(y_test, y_pred_knn)\n",
    "precision = precision_score(y_test, y_pred_knn, average='weighted')\n",
    "recall = recall_score(y_test, y_pred_knn, average='weighted')\n",
    "f1 = f1_score(y_test, y_pred_knn, average='weighted')"
   ]
  },
  {
   "cell_type": "markdown",
   "metadata": {},
   "source": [
    "**Decision Tree** memberikan hasil yang sangat tinggi dengan akurasi 99,78%. Semua kelas memiliki precision, recall, dan f1-score yang mendekati 1, menunjukkan model hampir sempurna dalam membedakan kelas.\n",
    "\n",
    "**Random Forest** karena hasilnya hampir mendekati sempurna dengan akurasi 99,93%, sedikit lebih baik dibandingkan Decision Tree. Semua kelas memiliki precision, recall, dan f1-score yang sangat tinggi, menunjukkan model ini sangat baik dalam klasifikasi.\n",
    "\n",
    "analisis : Random Forest lebih unggul dibandingkan Decision Tree karena memiliki akurasi lebih tinggi dan lebih tahan terhadap overfitting. Jika kecepatan lebih diutamakan, Decision Tree tetap pilihan yang baik karena lebih ringan dalam komputasi."
   ]
  },
  {
   "cell_type": "markdown",
   "metadata": {
    "id": "ergzChZFEL-O"
   },
   "source": [
    "## **b. Evaluasi Model Klasifikasi**"
   ]
  },
  {
   "cell_type": "markdown",
   "metadata": {
    "id": "zOm68u-7NpLT"
   },
   "source": [
    "Berikut adalah **rekomendasi** tahapannya.\n",
    "1. Lakukan prediksi menggunakan data uji.\n",
    "2. Hitung metrik evaluasi seperti Accuracy dan F1-Score (Opsional: Precision dan Recall).\n",
    "3. Buat confusion matrix untuk melihat detail prediksi benar dan salah."
   ]
  },
  {
   "cell_type": "markdown",
   "metadata": {
    "id": "H4_9OwrsXZlz"
   },
   "source": [
    "Tulis hasil evaluasi algoritma yang digunakan, jika Anda menggunakan 2 algoritma, maka bandingkan hasilnya."
   ]
  },
  {
   "cell_type": "code",
   "execution_count": 102,
   "metadata": {},
   "outputs": [
    {
     "name": "stdout",
     "output_type": "stream",
     "text": [
      "==== Random Forest Classifier ====\n",
      "Accuracy: 0.9877\n",
      "Precision (weighted): 0.9877\n",
      "Recall (weighted): 0.9877\n",
      "F1-Score (weighted): 0.9877\n",
      "\n",
      "----------------------------------------\n",
      "\n"
     ]
    }
   ],
   "source": [
    "cm_rf = confusion_matrix(y_test, y_pred_rf)\n",
    "\n",
    "# Menghitung metrik evaluasi untuk Random Forest\n",
    "precision_rf = precision_score(y_test, y_pred_rf, average='weighted')\n",
    "recall_rf = recall_score(y_test, y_pred_rf, average='weighted')\n",
    "f1_rf = f1_score(y_test, y_pred_rf, average='weighted')\n",
    "\n",
    "print(\"==== Random Forest Classifier ====\")\n",
    "print(f\"Accuracy: {accuracy_rf:.4f}\")\n",
    "print(f\"Precision (weighted): {precision_rf:.4f}\")\n",
    "print(f\"Recall (weighted): {recall_rf:.4f}\")\n",
    "print(f\"F1-Score (weighted): {f1_rf:.4f}\")\n",
    "print(\"\\n\" + \"-\"*40 + \"\\n\")\n"
   ]
  },
  {
   "cell_type": "code",
   "execution_count": 103,
   "metadata": {
    "id": "tMq4QAssNLip"
   },
   "outputs": [
    {
     "data": {
      "image/png": "[encoded data removed]",
      "text/plain": [
       "<Figure size 800x600 with 2 Axes>"
      ]
     },
     "metadata": {},
     "output_type": "display_data"
    }
   ],
   "source": [
    "plt.figure(figsize=(8, 6))\n",
    "sns.heatmap(cm_rf, annot=True, fmt=\"d\", cmap=\"Reds\", xticklabels=set(y_test), yticklabels=set(y_test))\n",
    "plt.xlabel(\"Predicted Label\")\n",
    "plt.ylabel(\"True Label\")\n",
    "plt.title(\"Confusion Matrix - Random Forest\")\n",
    "plt.show()"
   ]
  },
  {
   "cell_type": "code",
   "execution_count": 104,
   "metadata": {},
   "outputs": [
    {
     "name": "stdout",
     "output_type": "stream",
     "text": [
      "==== Decision Tree ====\n",
      "Accuracy: 0.9863\n",
      "Precision (weighted): 0.9863\n",
      "Recall (weighted): 0.9863\n",
      "F1-Score (weighted): 0.9863\n",
      "\n",
      "----------------------------------------\n",
      "\n"
     ]
    }
   ],
   "source": [
    "precision_dt = precision_score(y_test, y_pred_dt, average='weighted')\n",
    "recall_dt = recall_score(y_test, y_pred_dt, average='weighted')\n",
    "f1_dt = f1_score(y_test, y_pred_dt, average='weighted')\n",
    "\n",
    "\n",
    "print(\"==== Decision Tree ====\")\n",
    "print(f\"Accuracy: {accuracy_dt:.4f}\")\n",
    "print(f\"Precision (weighted): {precision_dt:.4f}\")\n",
    "print(f\"Recall (weighted): {recall_dt:.4f}\")\n",
    "print(f\"F1-Score (weighted): {f1_dt:.4f}\")\n",
    "print(\"\\n\" + \"-\"*40 + \"\\n\")"
   ]
  },
  {
   "cell_type": "code",
   "execution_count": 105,
   "metadata": {},
   "outputs": [
    {
     "data": {
      "image/png": "[encoded data removed]",
      "text/plain": [
       "<Figure size 800x600 with 2 Axes>"
      ]
     },
     "metadata": {},
     "output_type": "display_data"
    }
   ],
   "source": [
    "cm_dt = confusion_matrix(y_test, y_pred_dt)\n",
    "\n",
    "# Visualisasi Confusion Matrix\n",
    "plt.figure(figsize=(8, 6))\n",
    "sns.heatmap(cm_dt, annot=True, fmt=\"d\", cmap=\"Oranges\", xticklabels=set(y_test), yticklabels=set(y_test))\n",
    "plt.xlabel(\"Predicted Label\")\n",
    "plt.ylabel(\"True Label\")\n",
    "plt.title(\"Confusion Matrix - Decision Tree\")\n",
    "plt.show()"
   ]
  },
  {
   "cell_type": "markdown",
   "metadata": {},
   "source": [
    "## Random Forest Classifier\n",
    "- **Accuracy:** 98.77%  \n",
    "- **Precision (weighted):** 98.77%  \n",
    "- **Recall (weighted):** 98.77%  \n",
    "- **F1-Score (weighted):** 98.77%\n",
    "\n",
    "## Decision Tree\n",
    "- **Accuracy:** 98.63%  \n",
    "- **Precision (weighted):** 98.63%  \n",
    "- **Recall (weighted):** 98.63%  \n",
    "- **F1-Score (weighted):** 98.63%\n",
    "\n",
    "Analisis : Meskipun kedua algoritma menunjukkan performa yang sangat tinggi, **Random Forest Classifier** sedikit lebih unggul dibandingkan **Decision Tree** dari semua metrik evaluasi. Karena Random Forest merupakan **ensemble dari banyak Decision Tree**, sehingga lebih stabil dan mampu **mengurangi kemungkinan overfitting** yang biasa terjadi pada single Decision Tree. nammun, perbedaan performa antara keduanya sangat kecil (**sekitar 0.14%**).  \n",
    "mungkin **Decision Tree** lebih cepat dan lebih mudah diinterpretasikan dibandingkan Random Forest, namun rentan terhadap overfitting jika tidak dilakukan teknik **pruning**.\n",
    "\n",
    "\n"
   ]
  },
  {
   "cell_type": "markdown",
   "metadata": {
    "id": "ph9yIYDXEPuB"
   },
   "source": [
    "## **c. Tuning Model Klasifikasi (Optional)**"
   ]
  },
  {
   "cell_type": "markdown",
   "metadata": {
    "id": "-Bikx3LINv5e"
   },
   "source": [
    "Gunakan GridSearchCV, RandomizedSearchCV, atau metode lainnya untuk mencari kombinasi hyperparameter terbaik"
   ]
  },
  {
   "cell_type": "code",
   "execution_count": 106,
   "metadata": {},
   "outputs": [
    {
     "name": "stderr",
     "output_type": "stream",
     "text": [
      "[I 2025-04-09 12:53:23,011] A new study created in memory with name: no-name-a98eea6f-1f14-4f23-b20d-fe581e3cfc58\n",
      "[I 2025-04-09 12:53:30,104] Trial 0 finished with value: 0.9768274968850417 and parameters: {'n_estimators': 155, 'max_depth': 12, 'min_samples_split': 8, 'min_samples_leaf': 11, 'bootstrap': True}. Best is trial 0 with value: 0.9768274968850417.\n",
      "[I 2025-04-09 12:53:35,771] Trial 1 finished with value: 0.9766465014099286 and parameters: {'n_estimators': 144, 'max_depth': 10, 'min_samples_split': 17, 'min_samples_leaf': 20, 'bootstrap': False}. Best is trial 0 with value: 0.9768274968850417.\n",
      "[I 2025-04-09 12:53:42,561] Trial 2 finished with value: 0.9775516427306709 and parameters: {'n_estimators': 192, 'max_depth': 25, 'min_samples_split': 10, 'min_samples_leaf': 18, 'bootstrap': False}. Best is trial 2 with value: 0.9775516427306709.\n",
      "[I 2025-04-09 12:53:51,968] Trial 3 finished with value: 0.9580013443504493 and parameters: {'n_estimators': 183, 'max_depth': 5, 'min_samples_split': 9, 'min_samples_leaf': 3, 'bootstrap': True}. Best is trial 2 with value: 0.9775516427306709.\n",
      "[I 2025-04-09 12:53:55,610] Trial 4 finished with value: 0.973027247688373 and parameters: {'n_estimators': 109, 'max_depth': 7, 'min_samples_split': 16, 'min_samples_leaf': 13, 'bootstrap': False}. Best is trial 2 with value: 0.9775516427306709.\n",
      "[I 2025-04-09 12:54:00,275] Trial 5 finished with value: 0.9723016263361531 and parameters: {'n_estimators': 152, 'max_depth': 17, 'min_samples_split': 18, 'min_samples_leaf': 18, 'bootstrap': True}. Best is trial 2 with value: 0.9775516427306709.\n",
      "[I 2025-04-09 12:54:09,721] Trial 6 finished with value: 0.9826203357597219 and parameters: {'n_estimators': 257, 'max_depth': 24, 'min_samples_split': 11, 'min_samples_leaf': 1, 'bootstrap': False}. Best is trial 6 with value: 0.9826203357597219.\n",
      "[I 2025-04-09 12:54:12,253] Trial 7 finished with value: 0.9768274968850417 and parameters: {'n_estimators': 81, 'max_depth': 21, 'min_samples_split': 5, 'min_samples_leaf': 9, 'bootstrap': True}. Best is trial 6 with value: 0.9826203357597219.\n",
      "[I 2025-04-09 12:54:17,029] Trial 8 finished with value: 0.9791809298970424 and parameters: {'n_estimators': 148, 'max_depth': 28, 'min_samples_split': 12, 'min_samples_leaf': 5, 'bootstrap': True}. Best is trial 6 with value: 0.9826203357597219.\n",
      "[I 2025-04-09 12:54:25,744] Trial 9 finished with value: 0.9780949570463637 and parameters: {'n_estimators': 191, 'max_depth': 25, 'min_samples_split': 2, 'min_samples_leaf': 6, 'bootstrap': True}. Best is trial 6 with value: 0.9826203357597219.\n",
      "[I 2025-04-09 12:54:35,056] Trial 10 finished with value: 0.9826204997048988 and parameters: {'n_estimators': 282, 'max_depth': 32, 'min_samples_split': 12, 'min_samples_leaf': 1, 'bootstrap': False}. Best is trial 10 with value: 0.9826204997048988.\n",
      "[I 2025-04-09 12:54:44,195] Trial 11 finished with value: 0.9820773493343825 and parameters: {'n_estimators': 287, 'max_depth': 31, 'min_samples_split': 13, 'min_samples_leaf': 1, 'bootstrap': False}. Best is trial 10 with value: 0.9826204997048988.\n",
      "[I 2025-04-09 12:54:54,895] Trial 12 finished with value: 0.9818961899140927 and parameters: {'n_estimators': 293, 'max_depth': 32, 'min_samples_split': 14, 'min_samples_leaf': 1, 'bootstrap': False}. Best is trial 10 with value: 0.9826204997048988.\n",
      "[I 2025-04-09 12:55:04,302] Trial 13 finished with value: 0.9791809298970424 and parameters: {'n_estimators': 245, 'max_depth': 19, 'min_samples_split': 7, 'min_samples_leaf': 7, 'bootstrap': False}. Best is trial 10 with value: 0.9826204997048988.\n",
      "[I 2025-04-09 12:55:11,719] Trial 14 finished with value: 0.9813530395435766 and parameters: {'n_estimators': 239, 'max_depth': 25, 'min_samples_split': 20, 'min_samples_leaf': 3, 'bootstrap': False}. Best is trial 10 with value: 0.9826204997048988.\n",
      "[I 2025-04-09 12:55:19,736] Trial 15 finished with value: 0.9773709751459112 and parameters: {'n_estimators': 248, 'max_depth': 29, 'min_samples_split': 11, 'min_samples_leaf': 14, 'bootstrap': False}. Best is trial 10 with value: 0.9826204997048988.\n",
      "[I 2025-04-09 12:55:28,910] Trial 16 finished with value: 0.9808098891730606 and parameters: {'n_estimators': 268, 'max_depth': 22, 'min_samples_split': 15, 'min_samples_leaf': 4, 'bootstrap': False}. Best is trial 10 with value: 0.9826204997048988.\n",
      "[I 2025-04-09 12:55:35,992] Trial 17 finished with value: 0.9784567840514132 and parameters: {'n_estimators': 220, 'max_depth': 15, 'min_samples_split': 5, 'min_samples_leaf': 8, 'bootstrap': False}. Best is trial 10 with value: 0.9826204997048988.\n",
      "[I 2025-04-09 12:55:45,618] Trial 18 finished with value: 0.9826204997048988 and parameters: {'n_estimators': 300, 'max_depth': 28, 'min_samples_split': 12, 'min_samples_leaf': 1, 'bootstrap': False}. Best is trial 10 with value: 0.9826204997048988.\n",
      "[I 2025-04-09 12:55:55,561] Trial 19 finished with value: 0.9768273329398649 and parameters: {'n_estimators': 300, 'max_depth': 28, 'min_samples_split': 13, 'min_samples_leaf': 10, 'bootstrap': False}. Best is trial 10 with value: 0.9826204997048988.\n",
      "[I 2025-04-09 12:56:02,692] Trial 20 finished with value: 0.981896025968916 and parameters: {'n_estimators': 225, 'max_depth': 32, 'min_samples_split': 6, 'min_samples_leaf': 3, 'bootstrap': False}. Best is trial 10 with value: 0.9826204997048988.\n",
      "[I 2025-04-09 12:56:11,585] Trial 21 finished with value: 0.9826204997048988 and parameters: {'n_estimators': 273, 'max_depth': 24, 'min_samples_split': 10, 'min_samples_leaf': 1, 'bootstrap': False}. Best is trial 10 with value: 0.9826204997048988.\n",
      "[I 2025-04-09 12:56:20,168] Trial 22 finished with value: 0.9829829824906552 and parameters: {'n_estimators': 273, 'max_depth': 28, 'min_samples_split': 9, 'min_samples_leaf': 1, 'bootstrap': False}. Best is trial 22 with value: 0.9829829824906552.\n",
      "[I 2025-04-09 12:56:28,925] Trial 23 finished with value: 0.9800855793822546 and parameters: {'n_estimators': 276, 'max_depth': 29, 'min_samples_split': 8, 'min_samples_leaf': 5, 'bootstrap': False}. Best is trial 22 with value: 0.9829829824906552.\n",
      "[I 2025-04-09 12:56:35,659] Trial 24 finished with value: 0.9808100531182372 and parameters: {'n_estimators': 210, 'max_depth': 28, 'min_samples_split': 12, 'min_samples_leaf': 3, 'bootstrap': False}. Best is trial 22 with value: 0.9829829824906552.\n",
      "[I 2025-04-09 12:56:49,413] Trial 25 finished with value: 0.9818963538592694 and parameters: {'n_estimators': 299, 'max_depth': 30, 'min_samples_split': 14, 'min_samples_leaf': 2, 'bootstrap': False}. Best is trial 22 with value: 0.9829829824906552.\n",
      "[I 2025-04-09 12:56:58,210] Trial 26 finished with value: 0.9799045839071414 and parameters: {'n_estimators': 264, 'max_depth': 27, 'min_samples_split': 3, 'min_samples_leaf': 5, 'bootstrap': False}. Best is trial 22 with value: 0.9829829824906552.\n",
      "[I 2025-04-09 12:57:09,240] Trial 27 finished with value: 0.9791809298970424 and parameters: {'n_estimators': 279, 'max_depth': 20, 'min_samples_split': 9, 'min_samples_leaf': 7, 'bootstrap': False}. Best is trial 22 with value: 0.9829829824906552.\n",
      "[I 2025-04-09 12:57:17,363] Trial 28 finished with value: 0.9809908846481736 and parameters: {'n_estimators': 234, 'max_depth': 32, 'min_samples_split': 11, 'min_samples_leaf': 4, 'bootstrap': False}. Best is trial 22 with value: 0.9829829824906552.\n",
      "[I 2025-04-09 12:57:21,570] Trial 29 finished with value: 0.9759221916191226 and parameters: {'n_estimators': 123, 'max_depth': 14, 'min_samples_split': 9, 'min_samples_leaf': 13, 'bootstrap': True}. Best is trial 22 with value: 0.9829829824906552.\n",
      "[I 2025-04-09 12:57:26,152] Trial 30 finished with value: 0.8796160403960915 and parameters: {'n_estimators': 209, 'max_depth': 2, 'min_samples_split': 8, 'min_samples_leaf': 2, 'bootstrap': False}. Best is trial 22 with value: 0.9829829824906552.\n",
      "[I 2025-04-09 12:57:34,458] Trial 31 finished with value: 0.9826204997048988 and parameters: {'n_estimators': 275, 'max_depth': 23, 'min_samples_split': 10, 'min_samples_leaf': 1, 'bootstrap': False}. Best is trial 22 with value: 0.9829829824906552.\n",
      "[I 2025-04-09 12:57:42,073] Trial 32 finished with value: 0.9817151944389796 and parameters: {'n_estimators': 263, 'max_depth': 26, 'min_samples_split': 12, 'min_samples_leaf': 2, 'bootstrap': False}. Best is trial 22 with value: 0.9829829824906552.\n",
      "[I 2025-04-09 12:57:43,656] Trial 33 finished with value: 0.9833449734408815 and parameters: {'n_estimators': 52, 'max_depth': 30, 'min_samples_split': 10, 'min_samples_leaf': 1, 'bootstrap': False}. Best is trial 33 with value: 0.9833449734408815.\n",
      "[I 2025-04-09 12:57:45,305] Trial 34 finished with value: 0.9804478982228343 and parameters: {'n_estimators': 54, 'max_depth': 30, 'min_samples_split': 7, 'min_samples_leaf': 4, 'bootstrap': False}. Best is trial 33 with value: 0.9833449734408815.\n",
      "[I 2025-04-09 12:57:50,221] Trial 35 finished with value: 0.9829829824906552 and parameters: {'n_estimators': 170, 'max_depth': 11, 'min_samples_split': 16, 'min_samples_leaf': 2, 'bootstrap': False}. Best is trial 33 with value: 0.9833449734408815.\n",
      "[I 2025-04-09 12:57:53,987] Trial 36 finished with value: 0.9809915404288807 and parameters: {'n_estimators': 128, 'max_depth': 10, 'min_samples_split': 18, 'min_samples_leaf': 3, 'bootstrap': False}. Best is trial 33 with value: 0.9833449734408815.\n",
      "[I 2025-04-09 12:57:58,602] Trial 37 finished with value: 0.9753792051937833 and parameters: {'n_estimators': 165, 'max_depth': 11, 'min_samples_split': 16, 'min_samples_leaf': 16, 'bootstrap': True}. Best is trial 33 with value: 0.9833449734408815.\n",
      "[I 2025-04-09 12:58:00,418] Trial 38 finished with value: 0.9732082431634861 and parameters: {'n_estimators': 68, 'max_depth': 7, 'min_samples_split': 17, 'min_samples_leaf': 6, 'bootstrap': False}. Best is trial 33 with value: 0.9833449734408815.\n",
      "[I 2025-04-09 12:58:02,918] Trial 39 finished with value: 0.9694058626795199 and parameters: {'n_estimators': 93, 'max_depth': 17, 'min_samples_split': 20, 'min_samples_leaf': 20, 'bootstrap': True}. Best is trial 33 with value: 0.9833449734408815.\n",
      "[I 2025-04-09 12:58:07,616] Trial 40 finished with value: 0.9741127287035216 and parameters: {'n_estimators': 171, 'max_depth': 8, 'min_samples_split': 15, 'min_samples_leaf': 11, 'bootstrap': False}. Best is trial 33 with value: 0.9833449734408815.\n",
      "[I 2025-04-09 12:58:11,540] Trial 41 finished with value: 0.9820771853892059 and parameters: {'n_estimators': 132, 'max_depth': 30, 'min_samples_split': 10, 'min_samples_leaf': 2, 'bootstrap': False}. Best is trial 33 with value: 0.9833449734408815.\n",
      "[I 2025-04-09 12:58:14,614] Trial 42 finished with value: 0.9824395042297857 and parameters: {'n_estimators': 103, 'max_depth': 27, 'min_samples_split': 13, 'min_samples_leaf': 1, 'bootstrap': False}. Best is trial 33 with value: 0.9833449734408815.\n",
      "[I 2025-04-09 12:58:23,162] Trial 43 finished with value: 0.9829821627647715 and parameters: {'n_estimators': 287, 'max_depth': 13, 'min_samples_split': 9, 'min_samples_leaf': 2, 'bootstrap': False}. Best is trial 33 with value: 0.9833449734408815.\n",
      "[I 2025-04-09 12:58:30,743] Trial 44 finished with value: 0.9811722080136402 and parameters: {'n_estimators': 256, 'max_depth': 13, 'min_samples_split': 7, 'min_samples_leaf': 4, 'bootstrap': False}. Best is trial 33 with value: 0.9833449734408815.\n",
      "[I 2025-04-09 12:58:36,870] Trial 45 finished with value: 0.9835261328611713 and parameters: {'n_estimators': 186, 'max_depth': 11, 'min_samples_split': 9, 'min_samples_leaf': 2, 'bootstrap': False}. Best is trial 45 with value: 0.9835261328611713.\n",
      "[I 2025-04-09 12:58:43,400] Trial 46 finished with value: 0.9818965178044461 and parameters: {'n_estimators': 188, 'max_depth': 11, 'min_samples_split': 8, 'min_samples_leaf': 2, 'bootstrap': True}. Best is trial 45 with value: 0.9835261328611713.\n",
      "[I 2025-04-09 12:58:49,241] Trial 47 finished with value: 0.9768283166109253 and parameters: {'n_estimators': 160, 'max_depth': 9, 'min_samples_split': 9, 'min_samples_leaf': 5, 'bootstrap': False}. Best is trial 45 with value: 0.9835261328611713.\n",
      "[I 2025-04-09 12:58:53,339] Trial 48 finished with value: 0.9552854285526919 and parameters: {'n_estimators': 142, 'max_depth': 5, 'min_samples_split': 5, 'min_samples_leaf': 2, 'bootstrap': False}. Best is trial 45 with value: 0.9835261328611713.\n",
      "[I 2025-04-09 12:58:59,044] Trial 49 finished with value: 0.9815340350186897 and parameters: {'n_estimators': 177, 'max_depth': 16, 'min_samples_split': 10, 'min_samples_leaf': 3, 'bootstrap': False}. Best is trial 45 with value: 0.9835261328611713.\n"
     ]
    },
    {
     "name": "stdout",
     "output_type": "stream",
     "text": [
      "Best Parameters: {'n_estimators': 186, 'max_depth': 11, 'min_samples_split': 9, 'min_samples_leaf': 2, 'bootstrap': False}\n",
      "Best Accuracy: 0.9835261328611713\n"
     ]
    }
   ],
   "source": [
    "\n",
    "def objective(trial):\n",
    "    n_estimators = trial.suggest_int('n_estimators', 50, 300)  # Banyaknya pohon\n",
    "    max_depth = trial.suggest_int('max_depth', 2, 32)           # Kedalaman pohon\n",
    "    min_samples_split = trial.suggest_int('min_samples_split', 2, 20)  # Min sample utk split\n",
    "    min_samples_leaf = trial.suggest_int('min_samples_leaf', 1, 20)    # Min sample utk daun\n",
    "    bootstrap = trial.suggest_categorical('bootstrap', [True, False])  # Menggunakan bootstrap sampling atau tidak\n",
    "\n",
    "    model = RandomForestClassifier(\n",
    "        n_estimators=n_estimators,\n",
    "        max_depth=max_depth,\n",
    "        min_samples_split=min_samples_split,\n",
    "        min_samples_leaf=min_samples_leaf,\n",
    "        bootstrap=bootstrap,\n",
    "        random_state=42\n",
    "    )\n",
    "    \n",
    "    # 5-fold cross validation\n",
    "    score = cross_val_score(model, X_train, y_train, cv=5, scoring='accuracy').mean()\n",
    "    return score\n",
    "\n",
    "# Menjalankan optimasi\n",
    "best_score = optuna.create_study(direction='maximize')\n",
    "best_score.optimize(objective, n_trials=50)\n",
    "\n",
    "# Menampilkan hasil terbaik\n",
    "print(\"Best Parameters:\", best_score.best_params)\n",
    "print(\"Best Accuracy:\", best_score.best_value)"
   ]
  },
  {
   "cell_type": "markdown",
   "metadata": {
    "id": "hE7pqlEPEYzI"
   },
   "source": [
    "## **d. Evaluasi Model Klasifikasi setelah Tuning (Optional)**"
   ]
  },
  {
   "cell_type": "markdown",
   "metadata": {
    "id": "feaPESoeN0zz"
   },
   "source": [
    "Berikut adalah rekomendasi tahapannya.\n",
    "1. Gunakan model dengan hyperparameter terbaik.\n",
    "2. Hitung ulang metrik evaluasi untuk melihat apakah ada peningkatan performa."
   ]
  },
  {
   "cell_type": "code",
   "execution_count": null,
   "metadata": {},
   "outputs": [
    {
     "data": {
      "text/html": [
       "<style>#sk-container-id-2 {\n",
       "  /* Definition of color scheme common for light and dark mode */\n",
       "  --sklearn-color-text: #000;\n",
       "  --sklearn-color-text-muted: #666;\n",
       "  --sklearn-color-line: gray;\n",
       "  /* Definition of color scheme for unfitted estimators */\n",
       "  --sklearn-color-unfitted-level-0: #fff5e6;\n",
       "  --sklearn-color-unfitted-level-1: #f6e4d2;\n",
       "  --sklearn-color-unfitted-level-2: #ffe0b3;\n",
       "  --sklearn-color-unfitted-level-3: chocolate;\n",
       "  /* Definition of color scheme for fitted estimators */\n",
       "  --sklearn-color-fitted-level-0: #f0f8ff;\n",
       "  --sklearn-color-fitted-level-1: #d4ebff;\n",
       "  --sklearn-color-fitted-level-2: #b3dbfd;\n",
       "  --sklearn-color-fitted-level-3: cornflowerblue;\n",
       "\n",
       "  /* Specific color for light theme */\n",
       "  --sklearn-color-text-on-default-background: var(--sg-text-color, var(--theme-code-foreground, var(--jp-content-font-color1, black)));\n",
       "  --sklearn-color-background: var(--sg-background-color, var(--theme-background, var(--jp-layout-color0, white)));\n",
       "  --sklearn-color-border-box: var(--sg-text-color, var(--theme-code-foreground, var(--jp-content-font-color1, black)));\n",
       "  --sklearn-color-icon: #696969;\n",
       "\n",
       "  @media (prefers-color-scheme: dark) {\n",
       "    /* Redefinition of color scheme for dark theme */\n",
       "    --sklearn-color-text-on-default-background: var(--sg-text-color, var(--theme-code-foreground, var(--jp-content-font-color1, white)));\n",
       "    --sklearn-color-background: var(--sg-background-color, var(--theme-background, var(--jp-layout-color0, #111)));\n",
       "    --sklearn-color-border-box: var(--sg-text-color, var(--theme-code-foreground, var(--jp-content-font-color1, white)));\n",
       "    --sklearn-color-icon: #878787;\n",
       "  }\n",
       "}\n",
       "\n",
       "#sk-container-id-2 {\n",
       "  color: var(--sklearn-color-text);\n",
       "}\n",
       "\n",
       "#sk-container-id-2 pre {\n",
       "  padding: 0;\n",
       "}\n",
       "\n",
       "#sk-container-id-2 input.sk-hidden--visually {\n",
       "  border: 0;\n",
       "  clip: rect(1px 1px 1px 1px);\n",
       "  clip: rect(1px, 1px, 1px, 1px);\n",
       "  height: 1px;\n",
       "  margin: -1px;\n",
       "  overflow: hidden;\n",
       "  padding: 0;\n",
       "  position: absolute;\n",
       "  width: 1px;\n",
       "}\n",
       "\n",
       "#sk-container-id-2 div.sk-dashed-wrapped {\n",
       "  border: 1px dashed var(--sklearn-color-line);\n",
       "  margin: 0 0.4em 0.5em 0.4em;\n",
       "  box-sizing: border-box;\n",
       "  padding-bottom: 0.4em;\n",
       "  background-color: var(--sklearn-color-background);\n",
       "}\n",
       "\n",
       "#sk-container-id-2 div.sk-container {\n",
       "  /* jupyter's `normalize.less` sets `[hidden] { display: none; }`\n",
       "     but bootstrap.min.css set `[hidden] { display: none !important; }`\n",
       "     so we also need the `!important` here to be able to override the\n",
       "     default hidden behavior on the sphinx rendered scikit-learn.org.\n",
       "     See: https://github.com/scikit-learn/scikit-learn/issues/21755 */\n",
       "  display: inline-block !important;\n",
       "  position: relative;\n",
       "}\n",
       "\n",
       "#sk-container-id-2 div.sk-text-repr-fallback {\n",
       "  display: none;\n",
       "}\n",
       "\n",
       "div.sk-parallel-item,\n",
       "div.sk-serial,\n",
       "div.sk-item {\n",
       "  /* draw centered vertical line to link estimators */\n",
       "  background-image: linear-gradient(var(--sklearn-color-text-on-default-background), var(--sklearn-color-text-on-default-background));\n",
       "  background-size: 2px 100%;\n",
       "  background-repeat: no-repeat;\n",
       "  background-position: center center;\n",
       "}\n",
       "\n",
       "/* Parallel-specific style estimator block */\n",
       "\n",
       "#sk-container-id-2 div.sk-parallel-item::after {\n",
       "  content: \"\";\n",
       "  width: 100%;\n",
       "  border-bottom: 2px solid var(--sklearn-color-text-on-default-background);\n",
       "  flex-grow: 1;\n",
       "}\n",
       "\n",
       "#sk-container-id-2 div.sk-parallel {\n",
       "  display: flex;\n",
       "  align-items: stretch;\n",
       "  justify-content: center;\n",
       "  background-color: var(--sklearn-color-background);\n",
       "  position: relative;\n",
       "}\n",
       "\n",
       "#sk-container-id-2 div.sk-parallel-item {\n",
       "  display: flex;\n",
       "  flex-direction: column;\n",
       "}\n",
       "\n",
       "#sk-container-id-2 div.sk-parallel-item:first-child::after {\n",
       "  align-self: flex-end;\n",
       "  width: 50%;\n",
       "}\n",
       "\n",
       "#sk-container-id-2 div.sk-parallel-item:last-child::after {\n",
       "  align-self: flex-start;\n",
       "  width: 50%;\n",
       "}\n",
       "\n",
       "#sk-container-id-2 div.sk-parallel-item:only-child::after {\n",
       "  width: 0;\n",
       "}\n",
       "\n",
       "/* Serial-specific style estimator block */\n",
       "\n",
       "#sk-container-id-2 div.sk-serial {\n",
       "  display: flex;\n",
       "  flex-direction: column;\n",
       "  align-items: center;\n",
       "  background-color: var(--sklearn-color-background);\n",
       "  padding-right: 1em;\n",
       "  padding-left: 1em;\n",
       "}\n",
       "\n",
       "\n",
       "/* Toggleable style: style used for estimator/Pipeline/ColumnTransformer box that is\n",
       "clickable and can be expanded/collapsed.\n",
       "- Pipeline and ColumnTransformer use this feature and define the default style\n",
       "- Estimators will overwrite some part of the style using the `sk-estimator` class\n",
       "*/\n",
       "\n",
       "/* Pipeline and ColumnTransformer style (default) */\n",
       "\n",
       "#sk-container-id-2 div.sk-toggleable {\n",
       "  /* Default theme specific background. It is overwritten whether we have a\n",
       "  specific estimator or a Pipeline/ColumnTransformer */\n",
       "  background-color: var(--sklearn-color-background);\n",
       "}\n",
       "\n",
       "/* Toggleable label */\n",
       "#sk-container-id-2 label.sk-toggleable__label {\n",
       "  cursor: pointer;\n",
       "  display: flex;\n",
       "  width: 100%;\n",
       "  margin-bottom: 0;\n",
       "  padding: 0.5em;\n",
       "  box-sizing: border-box;\n",
       "  text-align: center;\n",
       "  align-items: start;\n",
       "  justify-content: space-between;\n",
       "  gap: 0.5em;\n",
       "}\n",
       "\n",
       "#sk-container-id-2 label.sk-toggleable__label .caption {\n",
       "  font-size: 0.6rem;\n",
       "  font-weight: lighter;\n",
       "  color: var(--sklearn-color-text-muted);\n",
       "}\n",
       "\n",
       "#sk-container-id-2 label.sk-toggleable__label-arrow:before {\n",
       "  /* Arrow on the left of the label */\n",
       "  content: \"▸\";\n",
       "  float: left;\n",
       "  margin-right: 0.25em;\n",
       "  color: var(--sklearn-color-icon);\n",
       "}\n",
       "\n",
       "#sk-container-id-2 label.sk-toggleable__label-arrow:hover:before {\n",
       "  color: var(--sklearn-color-text);\n",
       "}\n",
       "\n",
       "/* Toggleable content - dropdown */\n",
       "\n",
       "#sk-container-id-2 div.sk-toggleable__content {\n",
       "  max-height: 0;\n",
       "  max-width: 0;\n",
       "  overflow: hidden;\n",
       "  text-align: left;\n",
       "  /* unfitted */\n",
       "  background-color: var(--sklearn-color-unfitted-level-0);\n",
       "}\n",
       "\n",
       "#sk-container-id-2 div.sk-toggleable__content.fitted {\n",
       "  /* fitted */\n",
       "  background-color: var(--sklearn-color-fitted-level-0);\n",
       "}\n",
       "\n",
       "#sk-container-id-2 div.sk-toggleable__content pre {\n",
       "  margin: 0.2em;\n",
       "  border-radius: 0.25em;\n",
       "  color: var(--sklearn-color-text);\n",
       "  /* unfitted */\n",
       "  background-color: var(--sklearn-color-unfitted-level-0);\n",
       "}\n",
       "\n",
       "#sk-container-id-2 div.sk-toggleable__content.fitted pre {\n",
       "  /* unfitted */\n",
       "  background-color: var(--sklearn-color-fitted-level-0);\n",
       "}\n",
       "\n",
       "#sk-container-id-2 input.sk-toggleable__control:checked~div.sk-toggleable__content {\n",
       "  /* Expand drop-down */\n",
       "  max-height: 200px;\n",
       "  max-width: 100%;\n",
       "  overflow: auto;\n",
       "}\n",
       "\n",
       "#sk-container-id-2 input.sk-toggleable__control:checked~label.sk-toggleable__label-arrow:before {\n",
       "  content: \"▾\";\n",
       "}\n",
       "\n",
       "/* Pipeline/ColumnTransformer-specific style */\n",
       "\n",
       "#sk-container-id-2 div.sk-label input.sk-toggleable__control:checked~label.sk-toggleable__label {\n",
       "  color: var(--sklearn-color-text);\n",
       "  background-color: var(--sklearn-color-unfitted-level-2);\n",
       "}\n",
       "\n",
       "#sk-container-id-2 div.sk-label.fitted input.sk-toggleable__control:checked~label.sk-toggleable__label {\n",
       "  background-color: var(--sklearn-color-fitted-level-2);\n",
       "}\n",
       "\n",
       "/* Estimator-specific style */\n",
       "\n",
       "/* Colorize estimator box */\n",
       "#sk-container-id-2 div.sk-estimator input.sk-toggleable__control:checked~label.sk-toggleable__label {\n",
       "  /* unfitted */\n",
       "  background-color: var(--sklearn-color-unfitted-level-2);\n",
       "}\n",
       "\n",
       "#sk-container-id-2 div.sk-estimator.fitted input.sk-toggleable__control:checked~label.sk-toggleable__label {\n",
       "  /* fitted */\n",
       "  background-color: var(--sklearn-color-fitted-level-2);\n",
       "}\n",
       "\n",
       "#sk-container-id-2 div.sk-label label.sk-toggleable__label,\n",
       "#sk-container-id-2 div.sk-label label {\n",
       "  /* The background is the default theme color */\n",
       "  color: var(--sklearn-color-text-on-default-background);\n",
       "}\n",
       "\n",
       "/* On hover, darken the color of the background */\n",
       "#sk-container-id-2 div.sk-label:hover label.sk-toggleable__label {\n",
       "  color: var(--sklearn-color-text);\n",
       "  background-color: var(--sklearn-color-unfitted-level-2);\n",
       "}\n",
       "\n",
       "/* Label box, darken color on hover, fitted */\n",
       "#sk-container-id-2 div.sk-label.fitted:hover label.sk-toggleable__label.fitted {\n",
       "  color: var(--sklearn-color-text);\n",
       "  background-color: var(--sklearn-color-fitted-level-2);\n",
       "}\n",
       "\n",
       "/* Estimator label */\n",
       "\n",
       "#sk-container-id-2 div.sk-label label {\n",
       "  font-family: monospace;\n",
       "  font-weight: bold;\n",
       "  display: inline-block;\n",
       "  line-height: 1.2em;\n",
       "}\n",
       "\n",
       "#sk-container-id-2 div.sk-label-container {\n",
       "  text-align: center;\n",
       "}\n",
       "\n",
       "/* Estimator-specific */\n",
       "#sk-container-id-2 div.sk-estimator {\n",
       "  font-family: monospace;\n",
       "  border: 1px dotted var(--sklearn-color-border-box);\n",
       "  border-radius: 0.25em;\n",
       "  box-sizing: border-box;\n",
       "  margin-bottom: 0.5em;\n",
       "  /* unfitted */\n",
       "  background-color: var(--sklearn-color-unfitted-level-0);\n",
       "}\n",
       "\n",
       "#sk-container-id-2 div.sk-estimator.fitted {\n",
       "  /* fitted */\n",
       "  background-color: var(--sklearn-color-fitted-level-0);\n",
       "}\n",
       "\n",
       "/* on hover */\n",
       "#sk-container-id-2 div.sk-estimator:hover {\n",
       "  /* unfitted */\n",
       "  background-color: var(--sklearn-color-unfitted-level-2);\n",
       "}\n",
       "\n",
       "#sk-container-id-2 div.sk-estimator.fitted:hover {\n",
       "  /* fitted */\n",
       "  background-color: var(--sklearn-color-fitted-level-2);\n",
       "}\n",
       "\n",
       "/* Specification for estimator info (e.g. \"i\" and \"?\") */\n",
       "\n",
       "/* Common style for \"i\" and \"?\" */\n",
       "\n",
       ".sk-estimator-doc-link,\n",
       "a:link.sk-estimator-doc-link,\n",
       "a:visited.sk-estimator-doc-link {\n",
       "  float: right;\n",
       "  font-size: smaller;\n",
       "  line-height: 1em;\n",
       "  font-family: monospace;\n",
       "  background-color: var(--sklearn-color-background);\n",
       "  border-radius: 1em;\n",
       "  height: 1em;\n",
       "  width: 1em;\n",
       "  text-decoration: none !important;\n",
       "  margin-left: 0.5em;\n",
       "  text-align: center;\n",
       "  /* unfitted */\n",
       "  border: var(--sklearn-color-unfitted-level-1) 1pt solid;\n",
       "  color: var(--sklearn-color-unfitted-level-1);\n",
       "}\n",
       "\n",
       ".sk-estimator-doc-link.fitted,\n",
       "a:link.sk-estimator-doc-link.fitted,\n",
       "a:visited.sk-estimator-doc-link.fitted {\n",
       "  /* fitted */\n",
       "  border: var(--sklearn-color-fitted-level-1) 1pt solid;\n",
       "  color: var(--sklearn-color-fitted-level-1);\n",
       "}\n",
       "\n",
       "/* On hover */\n",
       "div.sk-estimator:hover .sk-estimator-doc-link:hover,\n",
       ".sk-estimator-doc-link:hover,\n",
       "div.sk-label-container:hover .sk-estimator-doc-link:hover,\n",
       ".sk-estimator-doc-link:hover {\n",
       "  /* unfitted */\n",
       "  background-color: var(--sklearn-color-unfitted-level-3);\n",
       "  color: var(--sklearn-color-background);\n",
       "  text-decoration: none;\n",
       "}\n",
       "\n",
       "div.sk-estimator.fitted:hover .sk-estimator-doc-link.fitted:hover,\n",
       ".sk-estimator-doc-link.fitted:hover,\n",
       "div.sk-label-container:hover .sk-estimator-doc-link.fitted:hover,\n",
       ".sk-estimator-doc-link.fitted:hover {\n",
       "  /* fitted */\n",
       "  background-color: var(--sklearn-color-fitted-level-3);\n",
       "  color: var(--sklearn-color-background);\n",
       "  text-decoration: none;\n",
       "}\n",
       "\n",
       "/* Span, style for the box shown on hovering the info icon */\n",
       ".sk-estimator-doc-link span {\n",
       "  display: none;\n",
       "  z-index: 9999;\n",
       "  position: relative;\n",
       "  font-weight: normal;\n",
       "  right: .2ex;\n",
       "  padding: .5ex;\n",
       "  margin: .5ex;\n",
       "  width: min-content;\n",
       "  min-width: 20ex;\n",
       "  max-width: 50ex;\n",
       "  color: var(--sklearn-color-text);\n",
       "  box-shadow: 2pt 2pt 4pt #999;\n",
       "  /* unfitted */\n",
       "  background: var(--sklearn-color-unfitted-level-0);\n",
       "  border: .5pt solid var(--sklearn-color-unfitted-level-3);\n",
       "}\n",
       "\n",
       ".sk-estimator-doc-link.fitted span {\n",
       "  /* fitted */\n",
       "  background: var(--sklearn-color-fitted-level-0);\n",
       "  border: var(--sklearn-color-fitted-level-3);\n",
       "}\n",
       "\n",
       ".sk-estimator-doc-link:hover span {\n",
       "  display: block;\n",
       "}\n",
       "\n",
       "/* \"?\"-specific style due to the `<a>` HTML tag */\n",
       "\n",
       "#sk-container-id-2 a.estimator_doc_link {\n",
       "  float: right;\n",
       "  font-size: 1rem;\n",
       "  line-height: 1em;\n",
       "  font-family: monospace;\n",
       "  background-color: var(--sklearn-color-background);\n",
       "  border-radius: 1rem;\n",
       "  height: 1rem;\n",
       "  width: 1rem;\n",
       "  text-decoration: none;\n",
       "  /* unfitted */\n",
       "  color: var(--sklearn-color-unfitted-level-1);\n",
       "  border: var(--sklearn-color-unfitted-level-1) 1pt solid;\n",
       "}\n",
       "\n",
       "#sk-container-id-2 a.estimator_doc_link.fitted {\n",
       "  /* fitted */\n",
       "  border: var(--sklearn-color-fitted-level-1) 1pt solid;\n",
       "  color: var(--sklearn-color-fitted-level-1);\n",
       "}\n",
       "\n",
       "/* On hover */\n",
       "#sk-container-id-2 a.estimator_doc_link:hover {\n",
       "  /* unfitted */\n",
       "  background-color: var(--sklearn-color-unfitted-level-3);\n",
       "  color: var(--sklearn-color-background);\n",
       "  text-decoration: none;\n",
       "}\n",
       "\n",
       "#sk-container-id-2 a.estimator_doc_link.fitted:hover {\n",
       "  /* fitted */\n",
       "  background-color: var(--sklearn-color-fitted-level-3);\n",
       "}\n",
       "</style><div id=\"sk-container-id-2\" class=\"sk-top-container\"><div class=\"sk-text-repr-fallback\"><pre>RandomForestClassifier(bootstrap=False, max_depth=11, min_samples_leaf=2,\n",
       "                       min_samples_split=9, n_estimators=186, random_state=42)</pre><b>In a Jupyter environment, please rerun this cell to show the HTML representation or trust the notebook. <br />On GitHub, the HTML representation is unable to render, please try loading this page with nbviewer.org.</b></div><div class=\"sk-container\" hidden><div class=\"sk-item\"><div class=\"sk-estimator fitted sk-toggleable\"><input class=\"sk-toggleable__control sk-hidden--visually\" id=\"sk-estimator-id-2\" type=\"checkbox\" checked><label for=\"sk-estimator-id-2\" class=\"sk-toggleable__label fitted sk-toggleable__label-arrow\"><div><div>RandomForestClassifier</div></div><div><a class=\"sk-estimator-doc-link fitted\" rel=\"noreferrer\" target=\"_blank\" href=\"https://scikit-learn.org/1.6/modules/generated/sklearn.ensemble.RandomForestClassifier.html\">?<span>Documentation for RandomForestClassifier</span></a><span class=\"sk-estimator-doc-link fitted\">i<span>Fitted</span></span></div></label><div class=\"sk-toggleable__content fitted\"><pre>RandomForestClassifier(bootstrap=False, max_depth=11, min_samples_leaf=2,\n",
       "                       min_samples_split=9, n_estimators=186, random_state=42)</pre></div> </div></div></div></div>"
      ],
      "text/plain": [
       "RandomForestClassifier(bootstrap=False, max_depth=11, min_samples_leaf=2,\n",
       "                       min_samples_split=9, n_estimators=186, random_state=42)"
      ]
     },
     "execution_count": 117,
     "metadata": {},
     "output_type": "execute_result"
    }
   ],
   "source": [
    "# Ambil parameter terbaik\n",
    "best_params = best_score.best_params\n",
    "\n",
    "# Buat model RandomForest baru dengan parameter terbaik\n",
    "rf_best = RandomForestClassifier(**best_params, random_state=42)\n",
    "\n",
    "# Fit ke data training\n",
    "rf_best.fit(X_train, y_train)\n"
   ]
  },
  {
   "cell_type": "code",
   "execution_count": 118,
   "metadata": {},
   "outputs": [
    {
     "data": {
      "text/html": [
       "<div>\n",
       "<style scoped>\n",
       "    .dataframe tbody tr th:only-of-type {\n",
       "        vertical-align: middle;\n",
       "    }\n",
       "\n",
       "    .dataframe tbody tr th {\n",
       "        vertical-align: top;\n",
       "    }\n",
       "\n",
       "    .dataframe thead th {\n",
       "        text-align: right;\n",
       "    }\n",
       "</style>\n",
       "<table border=\"1\" class=\"dataframe\">\n",
       "  <thead>\n",
       "    <tr style=\"text-align: right;\">\n",
       "      <th></th>\n",
       "      <th>Metric</th>\n",
       "      <th>Score</th>\n",
       "    </tr>\n",
       "  </thead>\n",
       "  <tbody>\n",
       "    <tr>\n",
       "      <th>0</th>\n",
       "      <td>Accuracy</td>\n",
       "      <td>0.986975</td>\n",
       "    </tr>\n",
       "    <tr>\n",
       "      <th>1</th>\n",
       "      <td>Precision</td>\n",
       "      <td>0.987001</td>\n",
       "    </tr>\n",
       "    <tr>\n",
       "      <th>2</th>\n",
       "      <td>Recall</td>\n",
       "      <td>0.986975</td>\n",
       "    </tr>\n",
       "    <tr>\n",
       "      <th>3</th>\n",
       "      <td>F1-Score</td>\n",
       "      <td>0.986974</td>\n",
       "    </tr>\n",
       "    <tr>\n",
       "      <th>4</th>\n",
       "      <td>Best Hyperparameter Accuracy</td>\n",
       "      <td>0.983526</td>\n",
       "    </tr>\n",
       "  </tbody>\n",
       "</table>\n",
       "</div>"
      ],
      "text/plain": [
       "                         Metric     Score\n",
       "0                      Accuracy  0.986975\n",
       "1                     Precision  0.987001\n",
       "2                        Recall  0.986975\n",
       "3                      F1-Score  0.986974\n",
       "4  Best Hyperparameter Accuracy  0.983526"
      ]
     },
     "execution_count": 118,
     "metadata": {},
     "output_type": "execute_result"
    }
   ],
   "source": [
    "# Membuat DataFrame evaluasi model\n",
    "eval_metrics = pd.DataFrame({\n",
    "    \"Metric\": [\"Accuracy\", \"Precision\", \"Recall\", \"F1-Score\", \"Best Hyperparameter Accuracy\"],\n",
    "    \"Score\": [accuracy, precision, recall, f1, best_score.best_value]\n",
    "})\n",
    "\n",
    "# Menampilkan hasil\n",
    "eval_metrics"
   ]
  },
  {
   "cell_type": "markdown",
   "metadata": {
    "id": "ZRsOdm4uEgAW"
   },
   "source": [
    "## **e. Analisis Hasil Evaluasi Model Klasifikasi**"
   ]
  },
  {
   "cell_type": "markdown",
   "metadata": {},
   "source": [
    "## Hasil Evaluasi Model Random Forest\n",
    "\n",
    "Berdasarkan hasil evaluasi, performa model Random Forest **mengalami sedikit penurunan** setelah dilakukan Hyperparameter Tuning menggunakan Bayesian Optimization (Optuna).\n",
    "\n",
    "- **Akurasi** sedikit menurun dari **98.77%** menjadi **98.70%**, menunjukkan bahwa kemampuan model untuk mengklasifikasikan data dengan benar sedikit berkurang.\n",
    "- **Precision** turun dari **98.77%** menjadi **98.70%**, yang berarti akurasi dalam memberikan prediksi positif yang benar sedikit menurun.\n",
    "- **Recall** juga turun dari **98.77%** menjadi **98.70%**, menunjukkan bahwa model sedikit berkurang dalam mendeteksi data positif yang sebenarnya.\n",
    "- **F1-Score** mengalami penurunan dari **98.77%** menjadi **98.70%**, mengindikasikan keseimbangan precision dan recall yang sedikit lebih rendah setelah tuning.\n",
    "\n",
    "Meskipun telah dilakukan Hyperparameter Tuning, **Best Hyperparameter Accuracy** hanya mencapai **98.35%**, sedikit lebih rendah dibandingkan akurasi model awal.\n",
    "\n",
    "Secara keseluruhan, Hyperparameter Tuning menggunakan Bayesian Optimization **tidak berhasil meningkatkan performa model Random Forest** secara signifikan. Bahkan terjadi sedikit **penurunan** pada seluruh metrik evaluasi.\n",
    "\n",
    "Hal ini menunjukkan bahwa konfigurasi default Random Forest sebelumnya sudah cukup optimal untuk dataset ini. Oleh karena itu, perlu dipertimbangkan untuk:\n",
    "- Melakukan tuning lanjutan dengan cakupan parameter yang lebih luas.\n",
    "- Mencoba metode tuning lain seperti **GridSearchCV** atau **RandomizedSearchCV**.\n",
    "- Menguji algoritma klasifikasi lain untuk membandingkan performa model terhadap dataset yang digunakan.\n"
   ]
  }
 ],
 "metadata": {
  "colab": {
   "provenance": [
    {
     "file_id": "1dygqHl-RYE0PmGXP74G__HNnnpjzoOT4",
     "timestamp": 1742793501565
    },
    {
     "file_id": "1d7-aiqmhHzOhHJtdj5TaBJnyf1pIN-rs",
     "timestamp": 1729232680021
    }
   ]
  },
  "kernelspec": {
   "display_name": "Python 3",
   "name": "python3"
  },
  "language_info": {
   "codemirror_mode": {
    "name": "ipython",
    "version": 3
   },
   "file_extension": ".py",
   "mimetype": "text/x-python",
   "name": "python",
   "nbconvert_exporter": "python",
   "pygments_lexer": "ipython3",
   "version": "3.12.6"
  }
 },
 "nbformat": 4,
 "nbformat_minor": 0
}
